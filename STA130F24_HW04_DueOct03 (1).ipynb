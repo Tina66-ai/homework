{
 "cells": [
  {
   "cell_type": "markdown",
   "metadata": {},
   "source": [
    "# STA130 Homework 04 \n",
    "\n",
    "Please see the course [wiki-textbook](https://github.com/pointOfive/stat130chat130/wiki) for the list of topics covered in this homework assignment, and a list of topics that might appear during ChatBot conversations which are \"out of scope\" for the purposes of this homework assignment (and hence can be safely ignored if encountered)"
   ]
  },
  {
   "cell_type": "markdown",
   "metadata": {},
   "source": [
    "<details class=\"details-example\"><summary style=\"color:blue\"><u>Introduction</u></summary>\n",
    "\n",
    "### Introduction\n",
    "\n",
    "A reasonable characterization of STA130 Homework is that it simply defines a weekly reading comprehension assignment. \n",
    "Indeed, STA130 Homework essentially boils down to completing various understanding confirmation exercises oriented around coding and writing tasks.\n",
    "However, rather than reading a textbook, STA130 Homework is based on ChatBots so students can interactively follow up to clarify questions or confusion that they may still have regarding learning objective assignments.\n",
    "\n",
    "> Communication is a fundamental skill underlying statistics and data science, so STA130 Homework based on ChatBots helps practice effective two-way communication as part of a \"realistic\" dialogue activity supporting underlying conceptual understanding building. \n",
    "\n",
    "It will likely become increasingly tempting to rely on ChatBots to \"do the work for you\". But when you find yourself frustrated with a ChatBots inability to give you the results you're looking for, this is a \"hint\" that you've become overreliant on the ChatBots. Your objective should not be to have ChatBots \"do the work for you\", but to use ChatBots to help you build your understanding so you can efficiently leverage ChatBots (and other resources) to help you work more efficiently.<br><br>\n",
    "\n",
    "</details>\n",
    "\n",
    "<details class=\"details-example\"><summary style=\"color:blue\"><u>Instructions</u></summary>\n",
    "\n",
    "### Instructions\n",
    "\n",
    "1. Code and write all your answers (for both the \"Prelecture\" and \"Postlecture\" HW) in a python notebook (in code and markdown cells) \n",
    "    \n",
    "> It is *suggested but not mandatory* that you complete the \"Prelecture\" HW prior to the Monday LEC since (a) all HW is due at the same time; but, (b) completing some of the HW early will mean better readiness for LEC and less of a \"procrastentation cruch\" towards the end of the week...\n",
    "    \n",
    "2. Paste summaries of your ChatBot sessions (including link(s) to chat log histories if you're using ChatGPT) within your notebook\n",
    "    \n",
    "> Create summaries of your ChatBot sessions by using concluding prompts such as \"Please provide a summary of our exchanges here so I can submit them as a record of our interactions as part of a homework assignment\" or, \"Please provide me with the final working verson of the code that we created together\"\n",
    "    \n",
    "3. Save your python jupyter notebook in your own account and \"repo\" on [github.com](github.com) and submit a link to that notebook though Quercus for assignment marking<br><br>\n",
    "\n",
    "</details>\n",
    "\n",
    "<details class=\"details-example\"><summary style=\"color:blue\"><u>Prompt Engineering?</u></summary>\n",
    "\n",
    "### Prompt Engineering? \n",
    "\n",
    "The questions (as copy-pasted prompts) are designed to initialize appropriate ChatBot conversations which can be explored in the manner of an interactive and dynamic textbook; but, it is nonetheless **strongly recommendated** that your rephrase the questions in a way that you find natural to ensure a clear understanding of the question. Given sensible prompts the represent a question well, the two primary challenges observed to arise from ChatBots are \n",
    "\n",
    "1. conversations going beyond the intended scope of the material addressed by the question; and, \n",
    "2. unrecoverable confusion as a result of sequential layers logial inquiry that cannot be resolved. \n",
    "\n",
    "In the case of the former (1), adding constraints specifying the limits of considerations of interest tends to be helpful; whereas, the latter (2) is often the result of initial prompting that leads to poor developments in navigating the material, which are likely just best resolve by a \"hard reset\" with a new initial approach to prompting.  Indeed, this is exactly the behavior [hardcoded into copilot](https://answers.microsoft.com/en-us/bing/forum/all/is-this-even-normal/0b6dcab3-7d6c-4373-8efe-d74158af3c00)...\n",
    "\n",
    "</details>\n",
    "\n",
    "\n"
   ]
  },
  {
   "cell_type": "markdown",
   "metadata": {},
   "source": [
    "### Marking Rubric (which may award partial credit) \n",
    "\n",
    "- [0.1 points]: All relevant ChatBot summaries [including link(s) to chat log histories if you're using ChatGPT] are reported within the notebook\n",
    "- [0.2 points]: Evaluation of correctness and effectiveness of written communication for Question \"1\"\n",
    "<!-- - [0.3 points]: Correctness of understanding confirmed by code comments and relevant ChatBot summaries [including link(s) to chat log histories if you're using ChatGPT] for Question \"4\" -->\n",
    "- [0.3 points]: Evaluation of correctness and effectiveness of written communication for Question \"6\"\n",
    "- [0.4 points]: Evaluation of submission for Question \"8\" "
   ]
  },
  {
   "cell_type": "markdown",
   "metadata": {},
   "source": [
    "## \"Pre-lecture\" HW [*completion prior to next LEC is suggested but not mandatory*]\n",
    "\n",
    "**To prepare for this weeks lecture, first watch this video [introduction to bootstrapping](https://www.youtube.com/watch?v=Xz0x-8-cgaQ)**\n"
   ]
  },
  {
   "cell_type": "code",
   "execution_count": null,
   "metadata": {},
   "outputs": [],
   "source": [
    "from IPython.display import YouTubeVideo\n",
    "YouTubeVideo('Xz0x-8-cgaQ', width=800, height=500)"
   ]
  },
  {
   "cell_type": "markdown",
   "metadata": {},
   "source": [
    "### 1. The \"Pre-lecture\" video (above) mentioned the \"standard error of the mean\" as being the \"standard deviation\" of the distribution bootstrapped means.  What is the difference between the \"standard error of the mean\" and the \"standard deviation\" of the original data? What distinct ideas do each of these capture? Explain this concisely in your own words.<br>\n",
    "\n",
    "<details class=\"details-example\"><summary style=\"color:blue\"><u>Further Guidance</u></summary>\n",
    "\n",
    "> _To answer this question, you could start a ChatBot session and try giving a ChatBot a shot at trying to explain this distinction to you. If you're not sure if you've been able to figure it out out this way, review [this ChatGPT session](https://github.com/pointOfive/stat130chat130/blob/main/CHATLOG/wk4/GPT/SLS/00002_gpt3p5_SEM_vs_SD_Difference.md)._\n",
    "> - _If you discuss this question with a ChatBot, don't forget to ask for summaries of your ChatBot session(s) and paste these into your homework notebook (including link(s) to chat log histories if you're using ChatGPT)._\n",
    "> \n",
    "> _Note that the \"Pre-lecture\" video (above) and the last *Question 5* of The **Week 04 TUT Communication Actvity #2** address the question of \"What is bootstrapping?\", but the question of \"What is the difference between the \"standard error of the mean\" and the \"standard deviation\" of the original data?\" does not really depend on what bootstrapping is._\n",
    "> \n",
    "> _If you were to be interested in answering the question of \"What is bootstrapping?\", probably just asking a ChatBot directly would work. Or even something like \"Explain variability of means, function of sample size, bootstrapping\" or \"How does the variability of means of simulated samples change as a function of sample size? Explain this to me in a simple way using bootstrapping!\" would likely be pretty effective as prompts. ChatBots are not particularly picky about prompts when it comes to addressing very well understood topics (like bootstrapping). That said, the more concise context you provide in your prompt, the more you can guide the relevance and relatability of the responses of a ChatBot in a manner you desire. The \"Further Guidance\" under *Question 5* of **Communication Actvity #2** in TUT is a good example of this._\n",
    "    \n",
    "</details>"
   ]
  },
  {
   "cell_type": "markdown",
   "metadata": {},
   "source": [
    "Standard Deviation and Standard Error Distinctions\n",
    "It is imperative to comprehend the distinction between standard deviation and standard error in order to successfully analyse data.\n",
    "\n",
    "\n",
    "Deviation Standard (SD):\n",
    "\n",
    "\n",
    "\n",
    "The standard deviation calculates the amount that each individual data point deviates from the dataset mean. The data points may be dispersed over a large range of values if the standard deviation is high, or they may be concentrated near the mean if the standard deviation is low. A high standard deviation, for instance, shows that there is a large difference in the test results of the students, whereas a low standard deviation suggests that the majority of the students scored similarly.\n",
    "\n",
    "Error Standard (SE):\n",
    "\n",
    "\n",
    "On the other hand, the standard error gives us an idea of how much the sample mean might change if we took repeated samples from the same population. It aids in our comprehension of how well the population mean is represented by our sample mean. The significance of standard error is especially noticeable when creating confidence intervals and performing hypothesis testing. In essence, standard error tells us about the accuracy of the mean we compute from the data, but standard deviation provides information about the variability of the data itself.\n",
    "Starting From Nothing to Analyse Vaccine Data\n",
    "By resampling our data, bootstrapping is a useful statistical tool for assessing the vaccine's efficacy. With the vaccine data from AliTech, we can do the following to put bootstrapping into practice:\n",
    "\n",
    "\n",
    "Creating Samples for Bootstrap:\n",
    "\n",
    "Starting with our initial dataset, we create numerous samples by randomly selecting data points and replacing them. For example, if we have 100 patients in our dataset, we would make multiple new datasets, each with 100 randomly selected patients from the original set.\n",
    "\n",
    "Compute Statistics:\n",
    "\n",
    "\n",
    "\n",
    "We compute pertinent data for every bootstrap sample, including the mean improvement in health scores prior to and following immunisation. This phase is essential for calculating the vaccine's efficacy.\n",
    "\n",
    "Establishing Confidence Intervals\n",
    "\n",
    "\n",
    "Upon calculating the intended statistic for every sample, we may utilise the distribution of these statistics to generate confidence intervals. Finding the 2.5th and 97.5th percentiles yields a 95% confidence interval for our estimates, which is how this is often accomplished.\n",
    "Calculating the Uncertainty:Similar to how we would interpret standard error, the diversity in the bootstrap statistics enables us to evaluate the uncertainty surrounding our estimate of the vaccine's effectiveness.In summary We can efficiently test our hypothesis regarding the vaccine's impact while accounting for any possible data skewness by utilising bootstrapping. When the distribution of health scores is not normal or for small sample sizes, this method is especially reliable. We may also comprehend the unpredictability and dependability of our results better by seeing the bootstrap distribution visually."
   ]
  },
  {
   "cell_type": "markdown",
   "metadata": {},
   "source": [
    "### 2. The \"Pre-lecture\" video (above) suggested that the \"standard error of the mean\" could be used to create a confidence interval, but didn't describe exactly how to do this.  How can we use the \"standard error of the mean\" to create a 95% confidence interval which \"covers 95% of the bootstrapped sample means\"? Explain this concisely in your own words.<br>\n",
    "\n",
    "<details class=\"details-example\"><summary style=\"color:blue\"><u>Further Guidance</u></summary>\n",
    "\n",
    "> _Just describe the proceedure itself (probably as reported by a ChatBot), but explain the procedure in your own words in a way that makes the most sense to you. The point is not to understand or explain the theoretical justification as to why this procedure exists, it's just to recognize that it does indeed exist and to briefly describe it. This is because in this class we're going to instead focus on understanding and using 95% bootstrapped confidence intervals. So this \"sample mean plus and minus about 2 times the standard error\" really only provides some context against which to contrast and clarify bootstrapped confidence intervals_\n",
    ">\n",
    "> - _If you continue get help from a ChatBot for this question (as is intended and expected for this problem), don't forget to ask for summaries of your ChatBot session(s) and paste these into your homework notebook (including link(s) to chat log histories if you're using ChatGPT)._\n",
    "</details>"
   ]
  },
  {
   "cell_type": "code",
   "execution_count": 2,
   "metadata": {},
   "outputs": [
    {
     "name": "stdout",
     "output_type": "stream",
     "text": [
      "95% Confidence Interval: (5.152770500412276, 7.739029499587725)\n"
     ]
    }
   ],
   "source": [
    "import numpy as np\n",
    "\n",
    "# Example dataset: differences in health scores (replace this with your actual data)\n",
    "data = [5, 7, 8, 3, 10, 6, 7, 4, 9, 5]  # Example health score differences\n",
    "\n",
    "# Step 1: Generate bootstrap samples and calculate bootstrap means\n",
    "bootstrap_means = []\n",
    "n_bootstrap = 1000  # Number of bootstrap samples\n",
    "\n",
    "for i in range(n_bootstrap):\n",
    "    bootstrap_sample = np.random.choice(data, size=len(data), replace=True)\n",
    "    bootstrap_means.append(np.mean(bootstrap_sample))\n",
    "\n",
    "# Step 2: Calculate the mean of bootstrap means\n",
    "mean_bootstrap = np.mean(bootstrap_means)\n",
    "\n",
    "# Step 3: Calculate the standard error of the bootstrap means\n",
    "se_bootstrap = np.std(bootstrap_means)\n",
    "\n",
    "# Step 4: Compute the 95% confidence interval using the standard error\n",
    "confidence_interval = (mean_bootstrap - 1.96 * se_bootstrap, \n",
    "                       mean_bootstrap + 1.96 * se_bootstrap)\n",
    "\n",
    "print(f\"95% Confidence Interval: {confidence_interval}\")\n"
   ]
  },
  {
   "cell_type": "markdown",
   "metadata": {},
   "source": [
    "### 3. Creating the \"sample mean plus and minus about 2 times the standard error\" confidence interval addressed in the previous problem should indeed cover approximately 95% of the bootstrapped sample means. Alternatively, how do we create a 95% bootstrapped confidence interval using the bootstrapped means (without using their standard deviation to estimate the standard error of the mean)? Explain this concisely in your own words.<br>\n",
    "\n",
    "<details class=\"details-example\"><summary style=\"color:blue\"><u>Further Guidance</u></summary>\n",
    "\n",
    "> _A good explaination here would likely be based on explaining how (and why) to use the `np.quantile(...)` function on a collection of bootstrapped sample means. The \"pre-lecture video\" describes what this should be, just not in terms of`np.quantile(...)`, right before the \"double bam\"._\n",
    ">\n",
    "> _That said, there are many other questions about bootstrapping that you should be working on familiarizing yourself with as as you're thinking through th proceedure that answers this question._\n",
    "> \n",
    "> - _If you had a_ ~~theoretical distribution~~ _histogram of bootstrapped sample means representing the variability/uncertianty of means (of \"averages\") that an observed sample of size n produces, how would you give a range estimating what the sample mean of a future sample of size n might be?_\n",
    ">\n",
    "> - _Unlike the \"sample mean plus and minus about 2 times the standard error\" approach which would only cover **approximately** 95% of the bootstrapped sample means, a 95% bootstrapped confidence interval would cover exactly 95% of the bootstrapped means._\n",
    ">\n",
    "> - _While the variability/uncertainty of sample mean statistics when sampling from a population is a function of the sample size (n) [how?], we would NEVER consider using a bootstrapped sample size that was different than the size of the original sample [why?]._\n",
    ">\n",
    "> - _Are bootstrapped samples different if they are the same size as the original sample and created by sampling **without replacement**?_\n",
    "\n",
    "</details>"
   ]
  },
  {
   "cell_type": "code",
   "execution_count": 3,
   "metadata": {},
   "outputs": [
    {
     "name": "stdout",
     "output_type": "stream",
     "text": [
      "95% Bootstrapped Confidence Interval: (5.1, 7.6)\n"
     ]
    }
   ],
   "source": [
    "import numpy as np\n",
    "\n",
    "# Example dataset: differences in health scores (replace this with your actual data)\n",
    "data = [5, 7, 8, 3, 10, 6, 7, 4, 9, 5]  # Example health score differences\n",
    "\n",
    "# Step 1: Generate bootstrap samples and calculate bootstrap means\n",
    "bootstrap_means = []\n",
    "n_bootstrap = 1000  # Number of bootstrap samples\n",
    "\n",
    "for i in range(n_bootstrap):\n",
    "    bootstrap_sample = np.random.choice(data, size=len(data), replace=True)\n",
    "    bootstrap_means.append(np.mean(bootstrap_sample))\n",
    "\n",
    "# Step 2: Sort the bootstrap means\n",
    "bootstrap_means_sorted = np.sort(bootstrap_means)\n",
    "\n",
    "# Step 3: Calculate the 2.5th and 97.5th percentiles\n",
    "lower_bound = np.percentile(bootstrap_means_sorted, 2.5)\n",
    "upper_bound = np.percentile(bootstrap_means_sorted, 97.5)\n",
    "\n",
    "# Step 4: Display the 95% confidence interval\n",
    "confidence_interval = (lower_bound, upper_bound)\n",
    "print(f\"95% Bootstrapped Confidence Interval: {confidence_interval}\")\n"
   ]
  },
  {
   "cell_type": "markdown",
   "metadata": {},
   "source": [
    "### 4. The \"Pre-lecture\" video (above) mentioned that bootstrap confidence intervals could apply to other statistics of the sample, such as the \"median\". Work with a ChatBot to create code to produce a 95% bootstrap confidence interval for a population mean based on a sample that you have and comment the code to demonstrate how the code can be changed to produce a 95% bootstrap confidence interval for different population parameter (other than the population mean, such as the population median).<br>\n",
    "\n",
    "<details class=\"details-example\"><summary style=\"color:blue\"><u>Further Guidance</u></summary>\n",
    "\n",
    "> _Hint: you can ask your ChatBot to create the code you need, and even make up a sample to use; but, you should work with your ChatBot to make sure you understand how the code works and what it's doing. Just having a ChatBot comment what the code does is not what this problem is asking you to do. This problem wants YOU to understand what the code does. To make sure you're indeed doing this, consider deleting the inline explanatory comments your ChatBot provides to you and write them again in your own words from scratch._\n",
    ">\n",
    "> - _Don't forget to ask for summaries of your ChatBot session(s) and paste these into your homework notebook (including link(s) to chat log histories if you're using ChatGPT)!_\n",
    "\n",
    "</details>"
   ]
  },
  {
   "cell_type": "code",
   "execution_count": 4,
   "metadata": {},
   "outputs": [
    {
     "name": "stdout",
     "output_type": "stream",
     "text": [
      "95% Bootstrap Confidence Interval for the Mean: (5.2, 7.6)\n"
     ]
    }
   ],
   "source": [
    "import numpy as np\n",
    "\n",
    "# Sample data (replace this with your actual data)\n",
    "data = [5, 7, 8, 3, 10, 6, 7, 4, 9, 5]  # Example data\n",
    "\n",
    "# Function to calculate a bootstrap confidence interval for the mean\n",
    "def bootstrap_ci(data, statistic_function=np.mean, n_bootstrap=1000, ci_percentile=95):\n",
    "    # Step 1: Generate bootstrap samples and calculate the statistic for each\n",
    "    bootstrap_statistics = []\n",
    "    \n",
    "    for i in range(n_bootstrap):\n",
    "        # Generate a bootstrap sample (sampling with replacement)\n",
    "        bootstrap_sample = np.random.choice(data, size=len(data), replace=True)\n",
    "        # Calculate the statistic (default is mean)\n",
    "        bootstrap_statistics.append(statistic_function(bootstrap_sample))\n",
    "    \n",
    "    # Step 2: Sort the bootstrap statistics\n",
    "    bootstrap_statistics_sorted = np.sort(bootstrap_statistics)\n",
    "    \n",
    "    # Step 3: Calculate the lower and upper percentiles\n",
    "    lower_bound = np.percentile(bootstrap_statistics_sorted, (100 - ci_percentile) / 2)\n",
    "    upper_bound = np.percentile(bootstrap_statistics_sorted, 100 - (100 - ci_percentile) / 2)\n",
    "    \n",
    "    # Step 4: Return the confidence interval\n",
    "    return lower_bound, upper_bound\n",
    "\n",
    "# Calculate the 95% bootstrap confidence interval for the mean\n",
    "mean_ci = bootstrap_ci(data)\n",
    "print(f\"95% Bootstrap Confidence Interval for the Mean: {mean_ci}\")\n"
   ]
  },
  {
   "cell_type": "code",
   "execution_count": 5,
   "metadata": {},
   "outputs": [
    {
     "name": "stdout",
     "output_type": "stream",
     "text": [
      "95% Bootstrap Confidence Interval for the Median: (5.0, 8.012499999999989)\n"
     ]
    }
   ],
   "source": [
    "median_ci = bootstrap_ci(data, statistic_function=np.median)\n",
    "print(f\"95% Bootstrap Confidence Interval for the Median: {median_ci}\")\n"
   ]
  },
  {
   "cell_type": "code",
   "execution_count": 6,
   "metadata": {},
   "outputs": [
    {
     "name": "stdout",
     "output_type": "stream",
     "text": [
      "95% Bootstrap Confidence Interval for the Variance: (1.4899999999999998, 6.889999999999999)\n"
     ]
    }
   ],
   "source": [
    "variance_ci = bootstrap_ci(data, statistic_function=np.var)\n",
    "print(f\"95% Bootstrap Confidence Interval for the Variance: {variance_ci}\")\n"
   ]
  },
  {
   "cell_type": "code",
   "execution_count": 7,
   "metadata": {},
   "outputs": [
    {
     "name": "stdout",
     "output_type": "stream",
     "text": [
      "95% Bootstrap Confidence Interval for the Standard Deviation: (1.2206555615733703, 2.6)\n"
     ]
    }
   ],
   "source": [
    "std_dev_ci = bootstrap_ci(data, statistic_function=np.std)\n",
    "print(f\"95% Bootstrap Confidence Interval for the Standard Deviation: {std_dev_ci}\")\n"
   ]
  },
  {
   "cell_type": "markdown",
   "metadata": {},
   "source": [
    "## \"Post-lecture\" HW [*submission along with \"Pre-lecture\" HW is due prior to next TUT*]"
   ]
  },
  {
   "cell_type": "markdown",
   "metadata": {},
   "source": [
    "### 5. The previous question addresses making a confidence interval for a population parameter based on a sample statistic. Why do we need to distinguish between the role of the popualation parameter and the sample sample statistic when it comes to confidence intervals? Explain this concisely in your own words.<br>\n",
    "\n",
    "<details class=\"details-example\"><summary style=\"color:blue\"><u>Further Guidance</u></summary>\n",
    "\n",
    "> _This question helps clarify the nature and relative roles of (population) parameters and (sample) statistics, which forms the fundamental conceptual relationship in statistics and data science; so, make sure you interact with a ChatBot (or search online or in the course [wiki-textbook](https://github.com/pointOfive/stat130chat130/wiki)) carefully and thoroughly to ensure that you understand the distinctions here in the context of confidence intervals._\n",
    ">\n",
    "> - _As always, don't forget to ask for summaries of your ChatBot session(s) and paste these into your homework notebook (including link(s) to chat log histories if you're using ChatGPT)._\n",
    "\n",
    "</details>"
   ]
  },
  {
   "cell_type": "markdown",
   "metadata": {},
   "source": [
    "When talking about confidence intervals, it's critical to distinguish between the population parameter and the sample statistic because they stand for two distinct ideas:\n",
    "\n",
    "Population parameter: This is the actual value (such as the mean or median) that characterises the population as a whole. Since it is impractical or impossible to measure the entire population, the answer is typically unknown.\n",
    "\n",
    "Sample statistics, such as sample mean or sample median, are values derived from samples that are used to estimate population parameters.\n",
    "\n",
    "Key Distinction: To provide a range of conceivable values for the population parameter, a confidence interval is built around the sample statistic.\n",
    "While the population parameter remains constant, the sample statistic may differ amongst samples. We may estimate the likely location of the genuine population parameter by using the confidence interval, which also takes this sample variability into account.\n",
    "In conclusion, this distinction is crucial for accurate interpretation because the confidence interval aids in inferring the unknown population parameter based on the sample statistic."
   ]
  },
  {
   "cell_type": "markdown",
   "metadata": {},
   "source": [
    "### 6. Provide written answers explaining the answers to the following questions in an informal manner of a conversation with a friend with little experience with statistics. <br>\n",
    "\n",
    "1. What is the process of bootstrapping? \n",
    "2. What is the main purpose of bootstrapping? \n",
    "3. If you had a (hypothesized) guess about what the average of a population was, and you had a sample of size n from that population, how could you use bootstrapping to assess whether or not your (hypothesized) guess might be plausible?\n",
    "   \n",
    "<details class=\"details-example\"><summary style=\"color:blue\"><u>Further Guidance</u></summary>\n",
    "\n",
    "> _Your answers to the previous questions 3-5 above (and the \"Further Guidance\" comments in question 3) should be very helpful for answering this question; but, they are very likely be more technical than would be useful for explaining these ideas to your friends. Work to use descriptive and intuitive language in your explaination._\n",
    "\n",
    "</details>"
   ]
  },
  {
   "cell_type": "markdown",
   "metadata": {},
   "source": [
    "Bootstrapping Explained\n",
    "\n",
    "Bootstrapping is a simple yet powerful method used to estimate the variability of a statistic, like the mean or median, without making strong assumptions about the population distribution. Here’s how it works in easy terms:\n",
    "\n",
    "How Bootstrapping Works:\n",
    "Start with a Sample:\n",
    "\n",
    "Begin with your original dataset, which represents a sample of data points from the population (e.g., health scores).\n",
    "Resample with Replacement:\n",
    "\n",
    "Create many new samples by randomly picking data points from your original sample with replacement. Each new sample should be the same size as the original.\n",
    "Calculate the Statistic for Each Bootstrap Sample:\n",
    "\n",
    "For each bootstrap sample, calculate the statistic you're interested in (e.g., mean or median). Repeat this multiple times (often 1000 or more).\n",
    "Build a Distribution:\n",
    "\n",
    "The collection of statistics from all the bootstrap samples forms a distribution of that statistic.\n",
    "Estimate Variability:\n",
    "\n",
    "From this distribution, you can estimate variability and construct confidence intervals. For a 95% confidence interval, take the 2.5th percentile as the lower bound and the 97.5th percentile as the upper bound.\n",
    "Why Use Bootstrapping?\n",
    "Bootstrapping is useful because it doesn’t rely on assumptions about the population’s distribution and works well with small samples. It provides a flexible, data-driven way to assess the uncertainty of your sample statistic.\n",
    "\n",
    "Simple Example:\n",
    "If you have a small sample of 10 test scores and want to estimate the average score for the population, bootstrapping allows you to create thousands of new samples from the original scores, compute the average for each, and determine the reliability of your average estimate."
   ]
  },
  {
   "cell_type": "markdown",
   "metadata": {},
   "source": [
    "Main Purpose of Bootstrapping\n",
    "\n",
    "The main purpose of bootstrapping is to estimate the uncertainty or variability of a statistic (like the mean, median, or variance) when we don't have access to the entire population and cannot make strong assumptions about the data's distribution. Specifically, bootstrapping helps us:\n",
    "\n",
    "Estimate confidence intervals for population parameters based on a sample.\n",
    "Assess the precision of a sample statistic, such as estimating the standard error.\n",
    "Test hypotheses about population parameters by analyzing the distribution of the statistic from the bootstrapped samples.\n",
    "In essence, bootstrapping allows us to understand how reliable our estimates are by repeatedly resampling the data and creating a distribution of possible outcomes. This makes it a flexible and powerful tool for situations where traditional statistical methods may not apply or assumptions like normality cannot be met."
   ]
  },
  {
   "cell_type": "markdown",
   "metadata": {},
   "source": [
    "Using Bootstrapping to Assess a Hypothesized Mean\n",
    "\n",
    "You can use bootstrapping to check whether your guess about the average (mean) of a population is plausible by following these steps:\n",
    "\n",
    "1. State Your Hypothesis:\n",
    "Your guess about the population mean is called your null hypothesis (e.g., \"I believe the population mean is 50\"). You want to check if the sample data supports this guess or suggests a different mean.\n",
    "2. Bootstrap Resampling:\n",
    "From your sample of size \n",
    "𝑛\n",
    "n, create a large number of bootstrap samples (usually 1000 or more) by resampling with replacement. Each bootstrap sample should also be of size \n",
    "𝑛\n",
    "n.\n",
    "For each bootstrap sample, calculate the sample mean.\n",
    "3. Create a Distribution of Bootstrapped Means:\n",
    "After generating all the bootstrap samples, you will have a distribution of bootstrap sample means. This represents the variability of the mean based on your sample.\n",
    "4. Compare Your Guess to the Bootstrap Distribution:\n",
    "Look at where your guessed mean falls within the distribution of bootstrap sample means.\n",
    "If your guessed mean lies within the confidence interval of the bootstrapped means (typically a 95% confidence interval), then your guess is plausible.\n",
    "If your guessed mean lies outside the confidence interval, it suggests that your guess may not be consistent with the data from the sample, making it less plausible."
   ]
  },
  {
   "cell_type": "code",
   "execution_count": 9,
   "metadata": {},
   "outputs": [
    {
     "name": "stdout",
     "output_type": "stream",
     "text": [
      "Your guess of 50 is plausible.\n",
      "95% Bootstrap Confidence Interval: (48.75, 51.375)\n"
     ]
    }
   ],
   "source": [
    "import numpy as np\n",
    "\n",
    "# Your sample data (replace with actual data)\n",
    "data = [48, 52, 50, 49, 51, 47, 53, 50]  # Example data\n",
    "n_bootstrap = 1000  # Number of bootstrap samples\n",
    "guess_mean = 50  # Your hypothesis about the population mean\n",
    "\n",
    "# Step 1: Generate bootstrap samples and calculate means\n",
    "bootstrap_means = []\n",
    "for _ in range(n_bootstrap):\n",
    "    bootstrap_sample = np.random.choice(data, size=len(data), replace=True)\n",
    "    bootstrap_means.append(np.mean(bootstrap_sample))\n",
    "\n",
    "# Step 2: Calculate the 95% confidence interval for the bootstrap means\n",
    "lower_bound = np.percentile(bootstrap_means, 2.5)\n",
    "upper_bound = np.percentile(bootstrap_means, 97.5)\n",
    "\n",
    "# Step 3: Check if your guessed mean is within the confidence interval\n",
    "if lower_bound <= guess_mean <= upper_bound:\n",
    "    print(f\"Your guess of {guess_mean} is plausible.\")\n",
    "else:\n",
    "    print(f\"Your guess of {guess_mean} is NOT plausible.\")\n",
    "\n",
    "print(f\"95% Bootstrap Confidence Interval: ({lower_bound}, {upper_bound})\")\n"
   ]
  },
  {
   "cell_type": "markdown",
   "metadata": {},
   "source": [
    "Interpretation: Considering the variability in your sample data, if your guess is inside the confidence interval, it is likely probable.\n",
    "If your estimate deviates from the confidence interval, it is unlikely to represent the true population mean given the sample size you have.\n",
    "The Benefits of Bootstrapping\n",
    "Bootstrapping allows you to assess how well your estimate matches the data without having to make firm assumptions about the population distribution. It does this by simulating how the sample mean may change if you had taken numerous samples from the population. You can assess your hypothesis in a more flexible and data-driven manner with this strategy."
   ]
  },
  {
   "cell_type": "markdown",
   "metadata": {},
   "source": [
    "\n",
    "### 7. The \"Pre-lecture\" video (above) introduced hypothesis testing by saying that \"the confidence interval covers zero, so we cannot reject the hypothesis that the drug is **[on average]** not doing anything\".  This conclusion could be referred to as \"failing to reject the null hypothesis\", where the term \"null\" refers to the concept of \"no effect **[on average]**\".  Why does a confidence interval overlapping zero \"fail to reject the null hypothesis\" when the observed sample mean statistic itself is not zero? Alternatively, what would lead to the opposite conclusion in this context; namely, instead choosing \"to reject the null hypothesis\"? Explain the answers to these questions concisely in your own words.<br>\n",
    "\n",
    "<details class=\"details-example\"><summary style=\"color:blue\"><u>Further Guidance</u></summary>\n",
    "\n",
    "> _This question (which addresses a very similar content to the third question of the previous probelm) is really about characterizing and leveraging the behavior of the variability/uncertainty of sample means that we expect at a given sample size. Understanding why this characterization would explain the answer to this question is the key idea underlying statistics. In fact, this concept is the primary consideration in statistics and the essense of how statistical analysis works._\n",
    "> \n",
    "> - In answering this question it is surely helpful to note the difference between the observed sample values in the sample $x_i$ (for $i = 1, \\cdots, n$), the observed sample average $\\bar x$, and the actual value of the parameter $\\mu$ clearly. Hopefully the meanings and distinctions here are increasingly obvious, as they should be if you have a clear understanding of the answer to question \"5\" above. Related to this, the quotes above have been edited to include \"**[on average]**\" which more accurately clarifies the intended meaning of the statements from the video. It's very relevent (again related to Question \"5\" above) to understand why are we bothering with making an explicit distinction with this, and why is it slightly different to say that \"the drug is on average not doing anything\" as opposed to saying \"the drug is not doing anything\"._\n",
    "> \n",
    "> Using a **null hypotheses** (and corresponding **alternative hypothesis**) will be addressed next week; but, to give a sneak peak preview of the **hypothesis testing** topic, the \"null\" and \"alternative\" are formally specified as \n",
    ">    \n",
    "> $H_0: \\mu=0 \\quad \\text{ and } \\quad H_A: H_0 \\text{ is false}$\n",
    ">\n",
    "> which means that our **null hypotheses** is that the average value $\\mu$ of the population is $0$, while our **alternative hypothesis** is that the average value $\\mu$ of the population is not $0$. \n",
    "> \n",
    "> **Statistical hypothesis testing** proceeds on the basis of the **scientific method** by defining the **null hypothesis** to be what we beleive until we have sufficient evidence to no longer believe it. As such, the **null hypotheses** is typically something that we *may not actually believe*; and, actually, the **null hypotheses** simply serves as a sort of \"straw man\" which we in fact really intend to give evidence against so as to no longer believe it (and hence move forward following the procedure of the **scientific method**).\n",
    "</details>"
   ]
  },
  {
   "cell_type": "markdown",
   "metadata": {},
   "source": [
    "A confidence interval (CI) that overlaps zero indicates a failure to reject the null hypothesis for the following reasons:\n",
    "\n",
    "1. Null Hypothesis and Confidence Intervals:\n",
    "In hypothesis testing, the null hypothesis (H₀) typically assumes that there is no effect or difference. For example, it might state that the population mean is zero \n",
    "A confidence interval provides a range of plausible values for the true population parameter (e.g., the mean) based on the sample data.\n",
    "2. Why Overlapping Zero Indicates Failure to Reject:\n",
    "If the confidence interval includes zero, it suggests that zero is a plausible value for the population parameter based on the sample data.\n",
    "In this case, the data does not provide strong enough evidence to reject the possibility that the true population mean is zero. Even if the observed sample mean is not zero, the variability in the data (captured by the CI) is large enough that zero could still be the true population mean.\n",
    "3. Rejecting the Null Hypothesis:\n",
    "You reject the null hypothesis when the data provides strong evidence that the population parameter is different \n",
    "This occurs when the confidence interval does not overlap zero. In such situations, zero is not a plausible value for the population mean, providing sufficient evidence to reject the null hypothesis. For example, if you construct a 95% confidence interval for the mean and the interval is entirely above or below zero \n",
    "Conditions That Lead to Rejecting the Null Hypothesis:\n",
    "Narrower Confidence Interval: A narrower CI that doesn't include zero suggests stronger evidence against the null hypothesis. This occurs when:\n",
    "The sample size is larger, which reduces uncertainty (narrowing the interval).\n",
    "The variability in the data is lower, reducing the standard error of the sample mean.\n",
    "Large Effect Size: If the sample mean is far from zero, it is more likely that the confidence interval will not overlap zero, supporting rejection of the null hypothesis.\n",
    "\n",
    "Summary:\n",
    "If a confidence interval includes zero, the data is not strong enough to reject the null hypothesis because zero remains a plausible population mean.\n",
    "If a confidence interval excludes zero, it suggests sufficient evidence to reject the null hypothesis, indicating that the population mean is likely different from zero."
   ]
  },
  {
   "cell_type": "markdown",
   "metadata": {},
   "source": [
    "### 8. Complete the following assignment. \n"
   ]
  },
  {
   "cell_type": "markdown",
   "metadata": {},
   "source": [
    "### Vaccine Data Analysis Assignment\n",
    "\n",
    "**Overview**\n",
    "\n",
    "The company AliTech has created a new vaccine that aims to improve the health of the people who take it. Your job is to use what you have learned in the course to give evidence for whether or not the vaccine is effective. \n",
    "\n",
    "**Data**\n",
    "AliTech has released the following data.\n",
    "\n",
    "```csv\n",
    "PatientID,Age,Gender,InitialHealthScore,FinalHealthScore\n",
    "1,45,M,84,86\n",
    "2,34,F,78,86\n",
    "3,29,M,83,80\n",
    "4,52,F,81,86\n",
    "5,37,M,81,84\n",
    "6,41,F,80,86\n",
    "7,33,M,79,86\n",
    "8,48,F,85,82\n",
    "9,26,M,76,83\n",
    "10,39,F,83,84\n",
    "```\n",
    "\n",
    "**Deliverables**\n",
    "While you can choose how to approach this project, the most obvious path would be to use bootstrapping, follow the analysis presented in the \"Pre-lecture\" HW video (above). Nonetheless, we are  primarily interested in evaluating your report relative to the following deliverables.\n",
    "\n",
    "- A visual presentation giving some initial insight into the comparison of interest.\n",
    "- A quantitative analysis of the data and an explanation of the method and purpose of this method.\n",
    "- A conclusion regarding a null hypothesis of \"no effect\" after analyzing the data with your methodology.\n",
    "- The clarity of your documentation, code, and written report. \n",
    "\n",
    "> Consider organizing your report within the following outline template.\n",
    "> - Problem Introduction \n",
    ">     - An explaination of the meaning of a Null Hypothesis of \"no effect\" in this context\n",
    ">     - Data Visualization (motivating and illustrating the comparison of interest)\n",
    "> - Quantitative Analysis\n",
    ">     - Methodology Code and Explanations\n",
    ">     - Supporting Visualizations\n",
    "> - Findings and Discussion\n",
    ">     - Conclusion regarding a Null Hypothesis of \"no effect\"\n",
    ">     - Further Considerations\n",
    "\n",
    "**Further Instructions**\n",
    "- When using random functions, you should make your analysis reproducible by using the `np.random.seed()` function\n",
    "- Create a CSV file and read that file in with your code, but **do not** include the CSV file along with your submission\n"
   ]
  },
  {
   "cell_type": "markdown",
   "metadata": {},
   "source": [
    "To conduct a quantitative analysis using bootstrapping to evaluate the effectiveness of the vaccine in my dataset, I will follow a structured approach. Here’s my step-by-step guide, assuming my dataset includes columns like patient ID, age, gender, initial health score, and final health score. My analysis will typically focus on the change in health scores before and after vaccination.\n",
    "\n",
    "Step-by-Step Bootstrapping Analysis\n",
    "Define Effectiveness: I will decide how to measure vaccine effectiveness. A common approach is to calculate the change in health score (final health score - initial health score).\n",
    "\n",
    "Prepare the Data: I will extract the relevant columns and calculate the changes in health scores. I will create a new variable that represents the improvement in health scores.\n",
    "\n",
    "Generate Bootstrap Samples: I will resample my dataset with replacement to create bootstrap samples. Each bootstrap sample will have the same size as my original dataset.\n",
    "\n",
    "Calculate the Statistic of Interest: For each bootstrap sample, I will calculate the mean change in health scores (or any other statistic I am interested in).\n",
    "\n",
    "Create a Distribution of Bootstrap Estimates: I will collect all the means from the bootstrap samples to create a distribution of the statistic.\n",
    "\n",
    "Estimate Confidence Intervals: From the bootstrap distribution, I will calculate the confidence intervals (e.g., 95% CI) to assess the variability of the effectiveness estimate.\n",
    "\n",
    "Analyze Results: I will compare the confidence interval against a threshold (e.g., if I expect a mean improvement). I will analyze whether the interval suggests a statistically significant improvement.\n",
    "\n",
    "Example Python Code\n",
    "Here’s a Python implementation of the steps outlined above:"
   ]
  },
  {
   "cell_type": "code",
   "execution_count": 10,
   "metadata": {},
   "outputs": [
    {
     "name": "stdout",
     "output_type": "stream",
     "text": [
      "Bootstrap Mean Change in Health Score: 3.11\n",
      "95% Confidence Interval for Mean Change in Health Score: (2.40, 3.80)\n",
      "The vaccine is effective (statistically significant improvement).\n"
     ]
    }
   ],
   "source": [
    "import numpy as np\n",
    "import pandas as pd\n",
    "\n",
    "# Step 1: Load your dataset\n",
    "# Assume your dataset is a CSV file. Replace 'data.csv' with your actual file.\n",
    "# data = pd.read_csv('data.csv')\n",
    "# For demonstration, let's create a sample dataset\n",
    "data = pd.DataFrame({\n",
    "    'patient_id': range(1, 11),\n",
    "    'initial_health_score': [60, 62, 59, 55, 61, 63, 58, 64, 57, 60],\n",
    "    'final_health_score': [65, 66, 62, 58, 64, 67, 60, 68, 59, 61]\n",
    "})\n",
    "\n",
    "# Step 2: Calculate the change in health scores\n",
    "data['change_in_health_score'] = data['final_health_score'] - data['initial_health_score']\n",
    "\n",
    "# Step 3: Bootstrap resampling\n",
    "n_bootstrap = 1000  # Number of bootstrap samples\n",
    "bootstrap_means = []\n",
    "\n",
    "for _ in range(n_bootstrap):\n",
    "    # Create a bootstrap sample\n",
    "    bootstrap_sample = np.random.choice(data['change_in_health_score'], size=len(data), replace=True)\n",
    "    # Calculate the mean change in health score for the bootstrap sample\n",
    "    bootstrap_means.append(np.mean(bootstrap_sample))\n",
    "\n",
    "# Step 4: Calculate the 95% confidence interval from the bootstrap means\n",
    "lower_bound = np.percentile(bootstrap_means, 2.5)\n",
    "upper_bound = np.percentile(bootstrap_means, 97.5)\n",
    "\n",
    "# Step 5: Display results\n",
    "print(f\"Bootstrap Mean Change in Health Score: {np.mean(bootstrap_means):.2f}\")\n",
    "print(f\"95% Confidence Interval for Mean Change in Health Score: ({lower_bound:.2f}, {upper_bound:.2f})\")\n",
    "\n",
    "# Step 6: Analyze results\n",
    "if lower_bound > 0:\n",
    "    print(\"The vaccine is effective (statistically significant improvement).\")\n",
    "elif upper_bound < 0:\n",
    "    print(\"The vaccine is not effective (statistically significant decrease in health scores).\")\n",
    "else:\n",
    "    print(\"The vaccine's effectiveness is inconclusive (confidence interval includes zero).\")\n"
   ]
  },
  {
   "cell_type": "markdown",
   "metadata": {},
   "source": [
    "A description of the code\n",
    "Loading Data: I'll load my own dataset in place of the sample dataset that was created.\n",
    "\n",
    "Calculating Changes: For every patient, the code determines the change in health ratings.\n",
    "\n",
    "Bootstrapping: I will create bootstrap samples and figure out how much each sample's mean change in health scores is.\n",
    "\n",
    "Confidence Interval: The bootstrap means' 95% confidence interval is calculated by the code.\n",
    "\n",
    "Interpretation of the Results: Using the confidence interval, I will assess if the vaccination seems to be working.\n",
    "Extra Things to Think About:\n",
    "Multiple Comparisons: I can repeat the bootstrapping process for each group independently if I am comparing different groups (e.g., vaccinated vs. unvaccinated).\n",
    "\n",
    "Plotting histograms of the bootstrap means or confidence intervals will be one way I plan to visually represent the results for easier understanding.\n",
    "\n",
    "Assumptions: I'll make sure that my analysis's presumptions are consistent with the features of the data, particularly with reference to sample size and distribution."
   ]
  },
  {
   "cell_type": "markdown",
   "metadata": {},
   "source": [
    "### 9. Have you reviewed the course wiki-textbook and interacted with a ChatBot (or, if that wasn't sufficient, real people in the course piazza discussion board or TA office hours) to help you understand all the material in the tutorial and lecture that you didn't quite follow when you first saw it?<br>\n",
    "    \n",
    "<details class=\"details-example\"><summary style=\"color:blue\"><u>Further Guidance</u></summary>\n",
    "    \n",
    ">  Here is the link of [wiki-textbook](https://github.com/pointOfive/stat130chat130/wiki) in case it gets lost among all the information you need to keep track of  : )\n",
    "> \n",
    "> Just answering \"Yes\" or \"No\" or \"Somewhat\" or \"Mostly\" or whatever here is fine as this question isn't a part of the rubric; but, the midterm and final exams may ask questions that are based on the tutorial and lecture materials; and, your own skills will be limited by your familiarity with these materials (which will determine your ability to actually do actual things effectively with these skills... like the course project...)\n",
    "\n",
    "</details>\n",
    "\n",
    "_**Don't forget to ask for summaries of your ChatBot session(s) and paste these into your homework notebook (including link(s) to chat log histories if you're using ChatGPT)!**_"
   ]
  },
  {
   "cell_type": "code",
   "execution_count": 11,
   "metadata": {},
   "outputs": [],
   "source": [
    "data = [75, 82, 90, 70, 85]\n"
   ]
  },
  {
   "cell_type": "markdown",
   "metadata": {},
   "source": [
    "In brief\n",
    "By resampling my data, bootstrapping enables me to estimate the distribution of a statistic and yields confidence intervals and variability insights. Using a methodology called hypothesis testing, I assess the strength of the evidence supporting or refuting a hypothesis and draw conclusions about population parameters from sample data.\n"
   ]
  },
  {
   "cell_type": "markdown",
   "metadata": {},
   "source": [
    "## Recommended Additional Useful Activities [Optional]\n",
    "\n",
    "The \"Ethical Profesionalism Considerations\" and \"Current Course Project Capability Level\" sections below **are not a part of the required homework assignment**; rather, they are regular weekly guides covering (a) relevant considerations regarding professional and ethical conduct, and (b) the analysis steps for the STA130 course project that are feasible at the current stage of the course \n",
    "\n",
    "<br>\n",
    "<details class=\"details-example\"><summary style=\"color:blue\"><u>Ethical Professionalism Considerations</u></summary>\n",
    "\n",
    "### Ethical Professionalism Considerations\n",
    "    \n",
    "1. What is the difference between reporting a sample statistic (say, from the Canadian Social Connection Survey) as opposed to the a population parameter (chacterizing the population of the Canadians the Canadian Social Connection Survey samples)?\n",
    "2. Why should bootsrapping (and confidence intervals in particular) be utilized when reporting sample statistics (say, from the Canadian Social Connection Survey)?\n",
    "3. How does bootsrapping (and confidence intervals in particular) help us relate the data we have to all Canadians? \n",
    "4. Is the population that the Canadian Social Connection Survey samples really actually all Canadians? Or is it biased in some way? \n",
    "5. Why are the previous questions \"Ethical\" and \"Professional\" in nature?\n",
    "6. If the Canadian Social Connection Survey samples Canadians in some sort of biased way, how could we begin considering if the results can generalize to all Canadians; or, perhaps, the degree to which the results could generalize to all Canadians?\n",
    "</details>    \n",
    "\n",
    "<details class=\"details-example\"><summary style=\"color:blue\"><u>Current Course Project Capability Level</u></summary>\n",
    "\n",
    "### Current Course Project Capability Level\n",
    "    \n",
    "**Remember to abide by the [data use agreement](https://static1.squarespace.com/static/60283c2e174c122f8ebe0f39/t/6239c284d610f76fed5a2e69/1647952517436/Data+Use+Agreement+for+the+Canadian+Social+Connection+Survey.pdf) at all times.**\n",
    "\n",
    "Information about the course project is available on the course github repo [here](https://github.com/pointOfive/stat130chat130/tree/main/CP), including a draft [course project specfication](https://github.com/pointOfive/stat130chat130/blob/main/CP/STA130F23_course_project_specification.ipynb) (subject to change). \n",
    "- The Week 01 HW introduced [STA130F24_CourseProject.ipynb](https://github.com/pointOfive/stat130chat130/blob/main/CP/STA130F24_CourseProject.ipynb), and the [available variables](https://drive.google.com/file/d/1ISVymGn-WR1lcRs4psIym2N3or5onNBi/view). \n",
    "- Please do not download the [data](https://drive.google.com/file/d/1mbUQlMTrNYA7Ly5eImVRBn16Ehy9Lggo/view) accessible at the bottom of the [CSCS](https://casch.org/cscs) webpage (or the course github repo) multiple times.\n",
    "\n",
    "> ### NEW DEVELOPMENT<br>New Abilities Achieved and New Levels Unlocked!!!    \n",
    "> **As noted, the Week 01 HW introduced the [STA130F24_CourseProject.ipynb](https://github.com/pointOfive/stat130chat130/blob/main/CP/STA130F24_CourseProject.ipynb) notebook.** _And there it instructed students to explore the notebook through the first 16 cells of the notebook._ The following cell in that notebook (there marked as \"run cell 17\") is preceded by an introductory section titled, \"**Now for some comparisons...**\", _**and all material from that point on provides an example to allow you to start applying what you're learning about bootstrapped confidence intervals\\* to the CSCS data**_ as now suggested next below.\n",
    ">\n",
    "> - **\\*** The code comment in \"Run cell 20\" stating, \"This could be used for the proportion of a paired differences test...\" refers to *Hypothesis Testing* material that will be introduced in Week 05 as opposed to the *bootstrapped confidence intervals* material introduced in Week 04.\n",
    "> - Regardless of this, the columns in the `dataV2_cohortV4_wideV2` pandas DataFrame can be considered with respect to the *bootstrapped confidence intervals* methodology of Week 04 (and consideration of the the subsequent cells from \"Run cell 20\" and on can be postponed until Week 05). \n",
    "\n",
    "At this point in the course you should be able to compute a bootstrap confidence interval for the (candian) population mean of a numeric variable of the sample of the Canadian Social Connection Survey. On the basis of only using the techniques we've encountered in the course so far, it would only be possible to assess a null hypothesis of \"no effect\" if we had \"paired\" (e.g., \"before and after\") measurements in our data; but, we could of course assess a hypothesized parameter value estimated by the bootstrapped confidence interval of a relevant sample statistic...\n",
    "    \n",
    "1. What are the different samples and populations that are part of the data related to the Canadian Social Connection Survey?\n",
    "    \n",
    "2. Consider whether or not we have \"paired\" (e.g., \"before and after\") measurements in our data which could be used to assess a null hypothesis of \"no effect\" (in the manner of the \"Pre-lecture\" HW video above); and, if such data is available, create a confidence interval for the average sample difference and use it to assess a null hypothesis of \"no effect\".\n",
    "    \n",
    "3. Pick a couple numeric variables from the Canadian Social Connection Survey with different amounts of non-missing data and create a 95% bootstrapped confidence intervals estimating population parameters for the variables.  \n",
    "    1. You would not want to do this by hand [why?]; but, could you nonetheless describe how this process would be done if you were to do it by hand? \n",
    "\n",
    "    2. [For Advanced Students Only] There are two factors that go into the uncertainty of sample means: the standard deviation of the original sample and the size of the sample (and they create a standard error of the mean that is theoretically \"the standard deviation of the original sample divided by the square root of n\").  Compute the theoretical standard errors of the sample mean for the different variables you've considered; and, if they're different, confirm that they influence the (variance/uncertainty) bootstrapped sampling distribution of the mean as expected\n",
    "\n",
    "</details>            "
   ]
  }
 ],
 "metadata": {
  "celltoolbar": "Slideshow",
  "colab": {
   "provenance": []
  },
  "kernelspec": {
   "display_name": "Python 3 (ipykernel)",
   "language": "python",
   "name": "python3"
  },
  "language_info": {
   "codemirror_mode": {
    "name": "ipython",
    "version": 3
   },
   "file_extension": ".py",
   "mimetype": "text/x-python",
   "name": "python",
   "nbconvert_exporter": "python",
   "pygments_lexer": "ipython3",
   "version": "3.11.6"
  }
 },
 "nbformat": 4,
 "nbformat_minor": 1
}
